{
 "cells": [
  {
   "cell_type": "code",
   "execution_count": null,
   "metadata": {},
   "outputs": [],
   "source": [
    "import pyrootutils\n",
    "root = pyrootutils.setup_root(search_from=\".\", pythonpath=True)\n",
    "\n",
    "import torch as T\n",
    "import numpy as np\n",
    "import torch.nn as nn\n",
    "import normflows as nf\n",
    "from sklearn.datasets import make_moons\n",
    "from matplotlib import pyplot as plt\n",
    "from tqdm import tqdm\n",
    "from mltools.mltools.flows import rqs_flow"
   ]
  },
  {
   "cell_type": "code",
   "execution_count": null,
   "metadata": {},
   "outputs": [],
   "source": [
    "flow = rqs_flow(\n",
    "    xz_dim = 2,\n",
    "    ctxt_dim = 0,\n",
    "    num_stacks = 16,\n",
    "    mlp_width = 32,\n",
    "    mlp_depth = 2,\n",
    "    mlp_act = nn.SiLU,\n",
    "    tail_bound = 4,\n",
    "    dropout = 0.1,\n",
    "    num_bins = 4,\n",
    "    do_lu = False,\n",
    "    do_norm = False,\n",
    "    flow_type = \"coupling\",\n",
    "    init_identity = True,\n",
    ")"
   ]
  },
  {
   "cell_type": "code",
   "execution_count": null,
   "metadata": {},
   "outputs": [],
   "source": [
    "device = T.device(\"cuda\" if T.cuda.is_available() else \"cpu\")\n",
    "flow = flow.to(device)\n",
    "print(flow)"
   ]
  },
  {
   "cell_type": "code",
   "execution_count": null,
   "metadata": {},
   "outputs": [],
   "source": [
    "grid_size = 200\n",
    "x_bins = T.linspace(-1.5, 2.5, grid_size)\n",
    "y_bins = T.linspace(-2, 2, grid_size)\n",
    "\n",
    "# Plot target distribution\n",
    "x_np, _ = make_moons(2 ** 20, noise=0.1)\n",
    "plt.figure(figsize=(4, 4))\n",
    "plt.hist2d(x_np[:, 0], x_np[:, 1], bins=[x_bins, y_bins])\n",
    "plt.show()\n",
    "\n",
    "# Plot initial flow distribution\n",
    "xx, yy = T.meshgrid(x_bins, y_bins, indexing=\"xy\")\n",
    "zz = T.cat([xx.unsqueeze(2), yy.unsqueeze(2)], 2).view(-1, 2)\n",
    "zz = zz.to(device)\n",
    "\n",
    "flow.eval()\n",
    "log_prob = flow.log_prob(zz).to('cpu').view(*xx.shape)\n",
    "flow.train()\n",
    "prob = T.exp(log_prob)\n",
    "prob[T.isnan(prob)] = 0\n",
    "\n",
    "plt.figure(figsize=(4, 4))\n",
    "plt.pcolormesh(xx, yy, prob.data.numpy())\n",
    "plt.gca().set_aspect('equal', 'box')\n",
    "plt.show()"
   ]
  },
  {
   "cell_type": "code",
   "execution_count": null,
   "metadata": {},
   "outputs": [],
   "source": [
    "max_iter = 5000\n",
    "num_samples = 2 ** 10\n",
    "loss_hist = np.array([])\n",
    "optimizer = T.optim.Adam(flow.parameters(), lr=1e-3, weight_decay=1e-5)\n",
    "for it in tqdm(range(max_iter)):\n",
    "    optimizer.zero_grad()\n",
    "\n",
    "    # Get training samples\n",
    "    x_np, _ = make_moons(num_samples, noise=0.1)\n",
    "    x = T.tensor(x_np).float().to(device)\n",
    "\n",
    "    # Compute loss\n",
    "    loss = flow.forward_kld(x)\n",
    "\n",
    "    # Do backprop and optimizer step\n",
    "    if ~(T.isnan(loss) | T.isinf(loss)):\n",
    "        loss.backward()\n",
    "        optimizer.step()\n",
    "\n",
    "    # Log loss\n",
    "    loss_hist = np.append(loss_hist, loss.to('cpu').data.numpy())\n",
    "\n",
    "# Plot loss\n",
    "plt.figure(figsize=(4, 4))\n",
    "plt.plot(loss_hist, label='loss')\n",
    "plt.legend()\n",
    "plt.show()"
   ]
  },
  {
   "cell_type": "code",
   "execution_count": null,
   "metadata": {},
   "outputs": [],
   "source": [
    "# Plot learned distribution\n",
    "flow.eval()\n",
    "log_prob = flow.log_prob(zz).to('cpu').view(*xx.shape)\n",
    "flow.train()\n",
    "prob = T.exp(log_prob)\n",
    "prob[T.isnan(prob)] = 0\n",
    "\n",
    "plt.figure(figsize=(4, 4))\n",
    "plt.pcolormesh(xx, yy, prob.data.numpy())\n",
    "plt.gca().set_aspect('equal', 'box')\n",
    "plt.show()"
   ]
  }
 ],
 "metadata": {
  "kernelspec": {
   "display_name": "base",
   "language": "python",
   "name": "python3"
  },
  "language_info": {
   "codemirror_mode": {
    "name": "ipython",
    "version": 3
   },
   "file_extension": ".py",
   "mimetype": "text/x-python",
   "name": "python",
   "nbconvert_exporter": "python",
   "pygments_lexer": "ipython3",
   "version": "3.11.5"
  }
 },
 "nbformat": 4,
 "nbformat_minor": 2
}
