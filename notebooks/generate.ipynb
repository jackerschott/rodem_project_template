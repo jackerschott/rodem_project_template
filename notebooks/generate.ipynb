{
 "cells": [
  {
   "cell_type": "code",
   "execution_count": 1,
   "metadata": {},
   "outputs": [],
   "source": [
    "import pyrootutils\n",
    "root = pyrootutils.setup_root(search_from=\".\", pythonpath=True)\n",
    "\n",
    "import imageio\n",
    "import torchvision\n",
    "import hydra\n",
    "import torch as T\n",
    "from mltools.mltools.hydra_utils import reload_original_config\n",
    "from mltools.mltools.diffusion import sample_heun, get_sigmas_karras"
   ]
  },
  {
   "cell_type": "code",
   "execution_count": 2,
   "metadata": {},
   "outputs": [],
   "source": [
    "# Load a saved model\n",
    "model_path = \"/home/matthew/Documents/saved_networks/generation/network1\"\n",
    "orig_config = reload_original_config(model_path, ckpt_flag=\"best*\")\n",
    "dev = \"cuda\" if T.cuda.is_available() else \"cpu\"\n",
    "model_class = hydra.utils.get_class(orig_config.model._target_)\n",
    "model = model_class.load_from_checkpoint(orig_config.ckpt_path, map_location=dev)"
   ]
  },
  {
   "cell_type": "code",
   "execution_count": 12,
   "metadata": {},
   "outputs": [
    {
     "name": "stderr",
     "output_type": "stream",
     "text": [
      "100%|██████████| 29/29 [00:01<00:00, 15.35it/s]\n"
     ]
    }
   ],
   "source": [
    "# Create random noise to generate from\n",
    "initial_noise = T.randn((1, *model.inpt_dim), device = model.device) * model.max_sigma\n",
    "\n",
    "# Create the sigma function for the denoising\n",
    "sigmas = get_sigmas_karras(model.min_sigma, model.max_sigma, 30)\n",
    "\n",
    "# Run the sampler storing each output\n",
    "outputs, stages = sample_heun(\n",
    "    model=model,\n",
    "    x=initial_noise,\n",
    "    sigmas=sigmas,\n",
    "    keep_all=True,\n",
    "    disable=False,\n",
    ")\n",
    "\n",
    "# Undo the normalisation for each stage\n",
    "for i in range(len(stages)):\n",
    "    stages[i] = model.normaliser.reverse(stages[i])\n",
    "    stages[i] = stages[i].squeeze(0).clip(0, 1)"
   ]
  },
  {
   "cell_type": "code",
   "execution_count": 25,
   "metadata": {},
   "outputs": [],
   "source": [
    "# Turn the stages into a gif!\n",
    "fn = torchvision.transforms.ToPILImage()\n",
    "pil_images = [fn(img) for img in (stages+stages[::-1])]\n",
    "imageio.mimsave(\"generation.gif\", pil_images, loop =0)"
   ]
  }
 ],
 "metadata": {
  "kernelspec": {
   "display_name": "base",
   "language": "python",
   "name": "python3"
  },
  "language_info": {
   "codemirror_mode": {
    "name": "ipython",
    "version": 3
   },
   "file_extension": ".py",
   "mimetype": "text/x-python",
   "name": "python",
   "nbconvert_exporter": "python",
   "pygments_lexer": "ipython3",
   "version": "3.11.5"
  }
 },
 "nbformat": 4,
 "nbformat_minor": 2
}
